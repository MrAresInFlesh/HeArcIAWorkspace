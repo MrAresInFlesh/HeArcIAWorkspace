{
 "cells": [
  {
   "cell_type": "markdown",
   "metadata": {},
   "source": [
    "# TP - Labyrinth"
   ]
  },
  {
   "cell_type": "markdown",
   "metadata": {},
   "source": [
    "## 1. Introduction\n",
    "\n",
    "*Les algorithmes génétiques appartiennent à la famille des **algorithmes évolutionnistes**. Leur but est d'obtenir une solution approchée à un problème d'optimisation, lorsqu'il n'existe pas de méthode exacte (ou que la solution est inconnue) pour le résoudre en un temps raisonnable.* <sub>(source: [Wikipédia - Algorithme génétique](https://fr.wikipedia.org/wiki/Algorithme_génétique))</sub>\n",
    "\n",
    "Durant le cours d'IA, un *travail pratique* (TP) à mener à bien consiste a proposer une résolution d'un labyrinthe de taille variable à l'aide d'un algorithme génétique. \n",
    "\n",
    "Faisant partie de la catégorie des algorithmes d'optimisation, il est conçu pour trouver une potentielle solution et ensuite de l'optimiser, puis retourner peut-être une solution satisfaisante.\n",
    "\n",
    "En soi, il existe des methodes bien plus efficaces pour trouver le chemin le plus court entre deux points sur une grille. Tout l'intérêt ici est d'apprendre le fonctionnement des algorithmes génétiques et leurs applications."
   ]
  },
  {
   "cell_type": "markdown",
   "metadata": {},
   "source": [
    "### `imports`"
   ]
  },
  {
   "cell_type": "code",
   "execution_count": 28,
   "metadata": {
    "collapsed": true
   },
   "outputs": [],
   "source": [
    "import numpy as np\n",
    "import random\n",
    "import time"
   ]
  },
  {
   "cell_type": "code",
   "execution_count": 29,
   "metadata": {
    "collapsed": false
   },
   "outputs": [],
   "source": [
    "from labyrinth import display_labyrinth\n",
    "from labyrinth import solve_labyrinth\n",
    "from collections import namedtuple\n",
    "from random import randint\n",
    "from deap import base, algorithms\n",
    "from deap import creator\n",
    "from deap import tools"
   ]
  },
  {
   "cell_type": "markdown",
   "metadata": {},
   "source": [
    "## Evolutionary constants\n"
   ]
  },
  {
   "cell_type": "code",
   "execution_count": 30,
   "metadata": {},
   "outputs": [],
   "source": [
    "POPULATION_SIZE = 1000\n",
    "TOURNAMENT_SIZE = 3\n",
    "\n",
    "GENE_MUTATION_PROBABILITY = 0.02\n",
    "CROSSOVER_PROBABILITY = 0.8\n",
    "MUTATION_PROBABILITY = 0.2\n",
    "\n",
    "EXPANSION = 1.25"
   ]
  },
  {
   "cell_type": "markdown",
   "metadata": {},
   "source": [
    "### Grids\n",
    "Storing all files from `data/` in a dictionary."
   ]
  },
  {
   "cell_type": "code",
   "execution_count": 1,
   "metadata": {
    "collapsed": false
   },
   "outputs": [],
   "source": [
    "levels = {\n",
    "    \"10\": {\"file\": \"data/grid10.npy\", \"time\": 5},\n",
    "    \"20\": {\"file\": \"data/grid20.npy\", \"time\": 5},\n",
    "    \"30\": {\"file\": \"data/grid30.npy\", \"time\": 5},\n",
    "    \"40\": {\"file\": \"data/grid40.npy\", \"time\": 5},\n",
    "    \"30**\": {\"file\": \"data/grid30180.npy\", \"time\": 5}\n",
    "}"
   ]
  },
  {
   "cell_type": "code",
   "execution_count": null,
   "metadata": {},
   "outputs": [],
   "source": []
  },
  {
   "cell_type": "code",
   "execution_count": null,
   "metadata": {},
   "outputs": [],
   "source": [
    "level = levels[\"10\"]\n",
    "grid = np.load(level[\"file\"])\n",
    "time = level[\"time\"]\n",
    "start, end = (0, 0), (grid.shape[0] - 1, grid.shape[1] - 1)\n"
   ]
  },
  {
   "cell_type": "code",
   "execution_count": null,
   "metadata": {},
   "outputs": [],
   "source": [
    "display_labyrinth(grid40x40, start, end)\n",
    "solution = solve_labyrinth(grid40x40, start, end, MAX_TIME)\n",
    "display_labyrinth(grid40x40, start, end, solution)"
   ]
  },
  {
   "cell_type": "code",
   "execution_count": null,
   "metadata": {},
   "outputs": [],
   "source": [
    "file = \"data/grid30180.npy\"\n",
    "grid30180 = np.load(file)\n",
    "h = grid30180.shape[0]\n",
    "w = grid30180.shape[1]\n",
    "end = (h - 1, w - 1)\n",
    "MAX_TIME = 90"
   ]
  },
  {
   "cell_type": "code",
   "execution_count": null,
   "metadata": {},
   "outputs": [],
   "source": [
    "display_labyrinth(grid30180, start, end)\n",
    "solution = solve_labyrinth(grid30180, start, end, MAX_TIME)\n",
    "display_labyrinth(grid30180, start, end, solution)\n"
   ]
  }
 ],
 "metadata": {
  "kernelspec": {
   "display_name": "Python 3",
   "language": "python",
   "name": "python3"
  },
  "language_info": {
   "codemirror_mode": {
    "name": "ipython",
    "version": 3
   },
   "file_extension": ".py",
   "mimetype": "text/x-python",
   "name": "python",
   "nbconvert_exporter": "python",
   "pygments_lexer": "ipython3",
   "version": "3.9.9"
  }
 },
 "nbformat": 4,
 "nbformat_minor": 4
}
